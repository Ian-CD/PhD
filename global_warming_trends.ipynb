{
 "cells": [
  {
   "cell_type": "code",
   "execution_count": 1,
   "id": "ef7a4135-3bf2-4663-b8bf-93ae33d2c683",
   "metadata": {},
   "outputs": [],
   "source": [
    "import xarray as xr\n",
    "import pandas as pd\n",
    "import numpy as np\n",
    "import calendar as cld\n",
    "import matplotlib.pyplot as plt\n",
    "import matplotlib.colors\n",
    "colors_land = plt.cm.terrain(np.linspace(0.25, 1, 256))\n",
    "import proplot as pplt # New plot library (https://proplot.readthedocs.io/en/latest/)\n",
    "pplt.rc['savefig.dpi'] = 300 # 1200 is too big! #https://proplot.readthedocs.io/en/latest/basics.html#Creating-figures\n",
    "from scipy.stats import chi2\n",
    "from numba import njit,prange\n",
    "import matplotlib as mpl\n",
    "mpl.rcParams['hatch.linewidth'] = 0.05  # previous pdf hatch linewidth\n",
    "from matplotlib.dates import DateFormatter\n",
    "\n",
    "from scipy.stats import linregress"
   ]
  },
  {
   "cell_type": "code",
   "execution_count": 2,
   "id": "47135269-c6fb-475d-929b-87d18fecdcf2",
   "metadata": {},
   "outputs": [],
   "source": [
    "normal_format = {'gridlinewidth':0.1, 'gridcolor':'gray8', 'gridalpha':0.5, 'coast':True,'borders':True ,'reso':'hi', 'labels':True, 'lonlines':2, 'latlines':2, 'abc':False, 'latlim':[43.,48.5],'lonlim':[4.,16.]}\n",
    "multiplot_format = {'gridlinewidth':0.1, 'gridcolor':'gray8', 'gridalpha':0.5, 'coast':True,'borders':True ,'reso':'hi', 'labels':False, 'lonlines':2, 'latlines':2, 'abc':False, 'latlim':[43.,48.5],'lonlim':[4.,16.]}\n",
    "\n",
    "imin = 32 ; imax = -30\n",
    "jmin = 20 ; jmax = -15\n",
    "ds = xr.open_dataset('/bettik/beaumetj/MARout/MAR-ERA-20C/MARgrid_EUf.nc')\n",
    "lon = ds.LON[jmin:jmax,imin:imax]\n",
    "lat = ds.LAT[jmin:jmax,imin:imax]\n",
    "H = np.array(ds.SH[jmin:jmax,imin:imax])"
   ]
  },
  {
   "cell_type": "code",
   "execution_count": 3,
   "id": "bb911ca9-0ecf-4ab7-8c7e-5999709c7848",
   "metadata": {},
   "outputs": [],
   "source": [
    "def detect_alps(H):\n",
    "    nlat,nlon = np.shape(H)\n",
    "    mask = np.bool_(np.zeros((nlat,nlon)))\n",
    "    r = 4\n",
    "    for j in range(r,nlat-r):\n",
    "        for i in range(r,nlon-r):\n",
    "            mask[j,i] = np.logical_and(H[j,i]>360 ,np.any(H[j-r:j+r,i-r:i+r]>1300))\n",
    "            # mask[j,i] = np.std(H[j-r:j+r,i-r:i+r])>200\n",
    "    return mask\n",
    "alps = detect_alps(H)\n",
    "alps[lon<4.8] = False\n",
    "alps[np.logical_and(lon>10,lat<45.2)] = False"
   ]
  },
  {
   "cell_type": "code",
   "execution_count": 4,
   "id": "0e4b73c9-0141-483b-be7e-3eaf1d7a1521",
   "metadata": {},
   "outputs": [
    {
     "data": {
      "text/plain": [
       "(140, 91, 139)"
      ]
     },
     "execution_count": 4,
     "metadata": {},
     "output_type": "execute_result"
    }
   ],
   "source": [
    "alps_wp = np.repeat(alps[np.newaxis, :, :], 140, axis=0)\n",
    "alps_wp.shape"
   ]
  },
  {
   "cell_type": "code",
   "execution_count": 5,
   "id": "d7e8bf58-a264-4770-b19a-0b76f76d313d",
   "metadata": {},
   "outputs": [],
   "source": [
    "\n",
    "yrly_tas_MPIhist_globalmean = np.load('/bettik/castelli/data/MPI-ESM1-2-HR/yrly_tas_MPI_hist.npy')\n",
    "yrly_tas_MPI245_globalmean = np.load('/bettik/castelli/data/MPI-ESM1-2-HR/yrly_tas_MPI_ssp245.npy')\n",
    "yrly_tas_MPI585_globalmean = np.load('/bettik/castelli/data/MPI-ESM1-2-HR/yrly_tas_MPI_ssp585.npy')"
   ]
  },
  {
   "cell_type": "code",
   "execution_count": 6,
   "id": "3744d209-9405-4c38-884e-3ef1145865b8",
   "metadata": {},
   "outputs": [],
   "source": [
    "yrly_tas_ECEarth_hist_globalmean = np.load('/bettik/castelli/data/EC-Earth3/yrly_tas_ECEarth_hist.npy')\n",
    "yrly_tas_ECEarth_245_globalmean = np.load('/bettik/castelli/data/EC-Earth3/yrly_tas_ECEarth_ssp245.npy')"
   ]
  },
  {
   "cell_type": "code",
   "execution_count": 7,
   "id": "27e384dc-b1aa-439a-8e24-7a9548836b5f",
   "metadata": {},
   "outputs": [
    {
     "data": {
      "text/plain": [
       "4.808252"
      ]
     },
     "execution_count": 7,
     "metadata": {},
     "output_type": "execute_result"
    }
   ],
   "source": [
    "preindustrial_mean_MPI = yrly_tas_MPIhist_globalmean[:50].mean()\n",
    "preindustrial_mean_MPI"
   ]
  },
  {
   "cell_type": "code",
   "execution_count": 8,
   "id": "6961755b-40a6-4d3d-aa83-74a4a65ef327",
   "metadata": {},
   "outputs": [
    {
     "data": {
      "text/plain": [
       "5.0014043"
      ]
     },
     "execution_count": 8,
     "metadata": {},
     "output_type": "execute_result"
    }
   ],
   "source": [
    "preindustrial_mean_ECEarth = yrly_tas_ECEarth_hist_globalmean[:50].mean()\n",
    "preindustrial_mean_ECEarth"
   ]
  },
  {
   "cell_type": "code",
   "execution_count": 9,
   "id": "9bc89d15-4482-4bee-924b-0127d5715c7a",
   "metadata": {},
   "outputs": [
    {
     "data": {
      "text/plain": [
       "(54,)"
      ]
     },
     "execution_count": 9,
     "metadata": {},
     "output_type": "execute_result"
    }
   ],
   "source": [
    "yrly_warming_MPIhist = yrly_tas_MPIhist_globalmean[111:] - preindustrial_mean_MPI # hist is now 1961-2014\n",
    "yrly_warming_MPI245 = yrly_tas_MPI245_globalmean - preindustrial_mean_MPI\n",
    "yrly_warming_MPI585 = yrly_tas_MPI585_globalmean - preindustrial_mean_MPI\n",
    "\n",
    "yrly_warming_MPIhist.shape"
   ]
  },
  {
   "cell_type": "code",
   "execution_count": 19,
   "id": "3dbc1386-8654-42af-93d4-f33c4cab6295",
   "metadata": {},
   "outputs": [],
   "source": [
    "yrly_warming_MPI245 = np.concatenate([yrly_warming_MPIhist,yrly_warming_MPI245])\n",
    "yrly_warming_MPI585 = np.concatenate([yrly_warming_MPIhist,yrly_warming_MPI585])"
   ]
  },
  {
   "cell_type": "code",
   "execution_count": 10,
   "id": "c8c690c6-b884-4d51-aca3-5d24d5b2266e",
   "metadata": {},
   "outputs": [
    {
     "data": {
      "text/plain": [
       "(140,)"
      ]
     },
     "execution_count": 10,
     "metadata": {},
     "output_type": "execute_result"
    }
   ],
   "source": [
    "yrly_warming_ECEarth_hist = yrly_tas_ECEarth_hist_globalmean[111:] - preindustrial_mean_ECEarth # hist is now 1961-2014\n",
    "yrly_warming_ECEarth_245 = yrly_tas_ECEarth_245_globalmean - preindustrial_mean_ECEarth\n",
    "\n",
    "yrly_warming_ECEarth = np.concatenate([yrly_warming_ECEarth_hist,yrly_warming_ECEarth_245])\n",
    "yrly_warming_ECEarth.shape"
   ]
  },
  {
   "cell_type": "markdown",
   "id": "cb347aa4-fcf0-4ef9-b392-edad5bc953d9",
   "metadata": {},
   "source": [
    "### MAR data"
   ]
  },
  {
   "cell_type": "code",
   "execution_count": 11,
   "id": "6e67c3b0-467d-4363-b3bc-200d08594bca",
   "metadata": {},
   "outputs": [
    {
     "data": {
      "text/plain": [
       "(140, 4, 91, 139)"
      ]
     },
     "execution_count": 11,
     "metadata": {},
     "output_type": "execute_result"
    }
   ],
   "source": [
    "wp_meanseason_meanT = np.load('/bettik/castelli/data/saved_data_MAR_ECEarth3/wp_meanseason_meanT.npy')[:,:,jmin:jmax,imin:imax]\n",
    "\n",
    "wp_meanseason_meanT.shape"
   ]
  },
  {
   "cell_type": "code",
   "execution_count": 16,
   "id": "6dc8c849-ef0a-4ffe-8807-ea9da88b2bec",
   "metadata": {},
   "outputs": [],
   "source": [
    "wp_meanseason_meanT_245 = np.load('/bettik/castelli/data/saved_data_MAR_MPI_ESM1_2_HR/SSP245/wp_meanseason_meanT.npy')[:,:,jmin:jmax,imin:imax]\n",
    "\n",
    "wp_meanseason_meanT_585 = np.copy(wp_meanseason_meanT_245)\n",
    "fp_meanseason_meanT_585 = np.load('/bettik/castelli/data/saved_data_MAR_MPI_ESM1_2_HR/SSP585/fp_meanseason_meanT.npy')[:,:,jmin:jmax,imin:imax]\n",
    "wp_meanseason_meanT_585[54:,:,:,:] = fp_meanseason_meanT_585"
   ]
  },
  {
   "cell_type": "code",
   "execution_count": 17,
   "id": "9f487181-607a-4a35-aead-f7c89fff17ce",
   "metadata": {},
   "outputs": [
    {
     "data": {
      "text/plain": [
       "(140, 91, 139)"
      ]
     },
     "execution_count": 17,
     "metadata": {},
     "output_type": "execute_result"
    }
   ],
   "source": [
    "wp_meanyr_meanT = wp_meanseason_meanT.mean(axis=1)\n",
    "wp_meanyr_meanT_245 = wp_meanseason_meanT_245.mean(axis=1)\n",
    "wp_meanyr_meanT_585 = wp_meanseason_meanT_585.mean(axis=1)\n",
    "\n",
    "\n",
    "wp_meanyr_meanT.shape"
   ]
  },
  {
   "cell_type": "code",
   "execution_count": 18,
   "id": "425233ce-3f5e-4a43-a28c-63d38d611538",
   "metadata": {},
   "outputs": [
    {
     "data": {
      "text/plain": [
       "(140,)"
      ]
     },
     "execution_count": 18,
     "metadata": {},
     "output_type": "execute_result"
    }
   ],
   "source": [
    "wp_meanyr_meanT_alps = np.ma.masked_array(wp_meanyr_meanT, mask=np.invert(alps_wp))\n",
    "wp_meanyr_meanT_meanalps = wp_meanyr_meanT_alps.mean(axis=(1,2))\n",
    "\n",
    "wp_meanyr_meanT_245_alps = np.ma.masked_array(wp_meanyr_meanT_245, mask=np.invert(alps_wp))\n",
    "wp_meanyr_meanT_245_meanalps = wp_meanyr_meanT_245_alps.mean(axis=(1,2))\n",
    "\n",
    "wp_meanyr_meanT_585_alps = np.ma.masked_array(wp_meanyr_meanT_585, mask=np.invert(alps_wp))\n",
    "wp_meanyr_meanT_585_meanalps = wp_meanyr_meanT_585_alps.mean(axis=(1,2))\n",
    "\n",
    "wp_meanyr_meanT_meanalps.shape\n"
   ]
  },
  {
   "cell_type": "code",
   "execution_count": 14,
   "id": "1ecac5dd-5164-477e-b24b-58b9e4adc76b",
   "metadata": {},
   "outputs": [
    {
     "data": {
      "text/plain": [
       "[0.8884047562382094,\n",
       " 1.0431051934056699,\n",
       " 0.9496008423852897,\n",
       " 1.3567875132661307,\n",
       " 1.6985232604294564,\n",
       " 1.7968518136084786,\n",
       " 2.029755049625079,\n",
       " 2.5649513528009438,\n",
       " 3.0049256321957962,\n",
       " 3.3030988952311056,\n",
       " 3.8541388408096697,\n",
       " 4.175842725911064,\n",
       " 4.520583908807279]"
      ]
     },
     "execution_count": 14,
     "metadata": {},
     "output_type": "execute_result"
    }
   ],
   "source": [
    "wrming_20yrs_MAR = []\n",
    "wrming_20yrs_GCM = []\n",
    "\n",
    "for i in range(13):\n",
    "    start = 10*i\n",
    "    end = start+20\n",
    "    wrming_20yrs_MAR.append(wp_meanyr_meanT_meanalps[start:end].mean() - preindustrial_mean_ECEarth)\n",
    "    wrming_20yrs_GCM.append(yrly_warming_ECEarth[start:end].mean())\n",
    "wrming_20yrs_MAR"
   ]
  },
  {
   "cell_type": "code",
   "execution_count": 20,
   "id": "e77acfd2-11c7-4ad7-9162-6ab611749bb1",
   "metadata": {},
   "outputs": [],
   "source": [
    "wrming_20yrs_MAR_245 = []\n",
    "wrming_20yrs_MAR_585 = []\n",
    "wrming_20yrs_GCM_245 = []\n",
    "wrming_20yrs_GCM_585 = []\n",
    "\n",
    "\n",
    "for i in range(13):\n",
    "    start = 10*i\n",
    "    end = start+20\n",
    "    wrming_20yrs_MAR_245.append(wp_meanyr_meanT_245_meanalps[start:end].mean() - preindustrial_mean_MPI)\n",
    "    wrming_20yrs_GCM_245.append(yrly_warming_MPI245[start:end].mean())\n",
    "\n",
    "    wrming_20yrs_MAR_585.append(wp_meanyr_meanT_585_meanalps[start:end].mean() - preindustrial_mean_MPI)\n",
    "    wrming_20yrs_GCM_585.append(yrly_warming_MPI585[start:end].mean())\n"
   ]
  },
  {
   "cell_type": "code",
   "execution_count": 24,
   "id": "e8ad9d64-666a-4491-af1c-6bc4f6ee9ac7",
   "metadata": {},
   "outputs": [
    {
     "data": {
      "text/plain": [
       "<matplotlib.legend.Legend at 0x1490c3111090>"
      ]
     },
     "execution_count": 24,
     "metadata": {},
     "output_type": "execute_result"
    },
    {
     "data": {
      "image/png": "[encoded data removed]",
      "text/plain": [
       "<Figure size 400x400 with 1 Axes>"
      ]
     },
     "metadata": {
      "image/png": {
       "height": 400,
       "width": 400
      }
     },
     "output_type": "display_data"
    }
   ],
   "source": [
    "plt.scatter(wrming_20yrs_GCM,wrming_20yrs_MAR,label='ECEarth')\n",
    "plt.scatter(wrming_20yrs_GCM_245,wrming_20yrs_MAR_245,label='MPI 245')\n",
    "plt.scatter(wrming_20yrs_GCM_585,wrming_20yrs_MAR_585,label='MPI 585')\n",
    "\n",
    "plt.legend()"
   ]
  },
  {
   "cell_type": "code",
   "execution_count": null,
   "id": "accd26cc-c792-4a66-b7d4-409c62f59d90",
   "metadata": {},
   "outputs": [],
   "source": []
  },
  {
   "cell_type": "code",
   "execution_count": null,
   "id": "b4dee974-51e9-4e4c-8262-f55f3e53437c",
   "metadata": {},
   "outputs": [],
   "source": []
  },
  {
   "cell_type": "code",
   "execution_count": null,
   "id": "dc1f3da3-f71a-4970-8325-06d5a37b09ac",
   "metadata": {},
   "outputs": [],
   "source": []
  },
  {
   "cell_type": "code",
   "execution_count": null,
   "id": "cd1b68c4-76ae-49ed-8f08-52ceb261f860",
   "metadata": {},
   "outputs": [],
   "source": []
  }
 ],
 "metadata": {
  "kernelspec": {
   "display_name": "Python [conda env:.conda-phd_v2] *",
   "language": "python",
   "name": "conda-env-.conda-phd_v2-py"
  },
  "language_info": {
   "codemirror_mode": {
    "name": "ipython",
    "version": 3
   },
   "file_extension": ".py",
   "mimetype": "text/x-python",
   "name": "python",
   "nbconvert_exporter": "python",
   "pygments_lexer": "ipython3",
   "version": "3.10.13"
  }
 },
 "nbformat": 4,
 "nbformat_minor": 5
}
