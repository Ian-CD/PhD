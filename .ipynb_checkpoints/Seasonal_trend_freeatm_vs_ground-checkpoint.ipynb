{
 "cells": [
  {
   "cell_type": "code",
   "execution_count": null,
   "id": "a066fe89-ec99-427e-98d0-62d67756c134",
   "metadata": {},
   "outputs": [],
   "source": [
    "import xarray as xr\n",
    "import pandas as pd\n",
    "import numpy as np\n",
    "import calendar as cld\n",
    "import matplotlib.pyplot as plt\n",
    "import matplotlib.colors\n",
    "colors_land = plt.cm.terrain(np.linspace(0.25, 1, 256))\n",
    "import proplot as pplt # New plot library (https://proplot.readthedocs.io/en/latest/)\n",
    "pplt.rc['savefig.dpi'] = 300 # 1200 is too big! #https://proplot.readthedocs.io/en/latest/basics.html#Creating-figures\n",
    "from scipy.stats import chi2\n",
    "from numba import njit,prange\n",
    "import matplotlib as mpl\n",
    "mpl.rcParams['hatch.linewidth'] = 0.05  # previous pdf hatch linewidth\n",
    "from matplotlib.dates import DateFormatter\n",
    "\n",
    "from scipy.stats import linregress"
   ]
  },
  {
   "cell_type": "code",
   "execution_count": null,
   "id": "dc0f978b-9a95-4d06-bf2c-22f10ac22d74",
   "metadata": {},
   "outputs": [],
   "source": [
    "normal_format = {'gridlinewidth':0.1, 'gridcolor':'gray8', 'gridalpha':0.5, 'coast':True,'borders':True ,'reso':'hi', 'labels':True, 'lonlines':2, 'latlines':2, 'abc':False, 'latlim':[43.,48.5],'lonlim':[4.,16.]}\n",
    "multiplot_format = {'gridlinewidth':0.1, 'gridcolor':'gray8', 'gridalpha':0.5, 'coast':True,'borders':True ,'reso':'hi', 'labels':False, 'lonlines':2, 'latlines':2, 'abc':False, 'latlim':[43.,48.5],'lonlim':[4.,16.]}\n",
    "\n",
    "imin = 32 ; imax = -30\n",
    "jmin = 20 ; jmax = -15\n",
    "ds = xr.open_dataset('/bettik/beaumetj/MARout/MAR-ERA-20C/MARgrid_EUf.nc')\n",
    "lon = ds.LON[jmin:jmax,imin:imax]\n",
    "lat = ds.LAT[jmin:jmax,imin:imax]\n",
    "H = np.array(ds.SH[jmin:jmax,imin:imax])"
   ]
  },
  {
   "cell_type": "code",
   "execution_count": null,
   "id": "5c342b61-5504-4171-b3ab-00adc18e1cab",
   "metadata": {},
   "outputs": [],
   "source": []
  },
  {
   "cell_type": "code",
   "execution_count": null,
   "id": "a6079f97-70e3-47f6-9090-0771e81aadd3",
   "metadata": {},
   "outputs": [],
   "source": []
  },
  {
   "cell_type": "code",
   "execution_count": null,
   "id": "76156079-5ba9-451c-a4eb-093dc6d918ac",
   "metadata": {},
   "outputs": [],
   "source": []
  }
 ],
 "metadata": {
  "kernelspec": {
   "display_name": "Python [conda env:erca] *",
   "language": "python",
   "name": "conda-env-erca-py"
  },
  "language_info": {
   "codemirror_mode": {
    "name": "ipython",
    "version": 3
   },
   "file_extension": ".py",
   "mimetype": "text/x-python",
   "name": "python",
   "nbconvert_exporter": "python",
   "pygments_lexer": "ipython3",
   "version": "3.8.5"
  }
 },
 "nbformat": 4,
 "nbformat_minor": 5
}
